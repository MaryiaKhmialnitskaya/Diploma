{
 "cells": [
  {
   "cell_type": "markdown",
   "metadata": {},
   "source": [
    "# 1. Загрузка данных"
   ]
  },
  {
   "cell_type": "code",
   "execution_count": 2,
   "metadata": {},
   "outputs": [],
   "source": [
    "import matplotlib.pyplot as plt\n",
    "import numpy as np\n",
    "import pandas as pd\n",
    "from datetime import datetime\n",
    "import seaborn as sn"
   ]
  },
  {
   "cell_type": "code",
   "execution_count": 3,
   "metadata": {},
   "outputs": [],
   "source": [
    "train = pd.read_csv('Data/train.csv', low_memory=False)\n",
    "train.index.name = 'Index'\n",
    "test = pd.read_csv('Data/test.csv', low_memory=False)\n",
    "test.index.name = 'Index'"
   ]
  },
  {
   "cell_type": "code",
   "execution_count": 4,
   "metadata": {},
   "outputs": [],
   "source": [
    "rawData = pd.concat([train, test], sort=False)"
   ]
  },
  {
   "cell_type": "code",
   "execution_count": 5,
   "metadata": {},
   "outputs": [],
   "source": [
    "categoricalFeatures = [\"hour\",\"weekday\",\"month\",\"year\",\"season\",\"weather\",\"holiday\",\"workingday\"]\n",
    "numericalFeatures = [\"atemp\", \"humidity\", \"windspeed\", \"count\"]\n",
    "featuresToBeDropped = [\"temp\", \"registered\", \"casual\", \"datetime\", \"count\"]"
   ]
  },
  {
   "cell_type": "markdown",
   "metadata": {},
   "source": [
    "# 2. Инженерия признаков"
   ]
  },
  {
   "cell_type": "code",
   "execution_count": 6,
   "metadata": {},
   "outputs": [],
   "source": [
    "#Create year, month, day, time columns\n",
    "rawData['year'] = pd.to_datetime(rawData['datetime']).apply(lambda x : x.year)\n",
    "rawData['month'] = pd.to_datetime(rawData['datetime']).apply(lambda x : x.month)\n",
    "rawData['weekday'] = pd.to_datetime(rawData['datetime']).apply(lambda x : x.isoweekday())\n",
    "rawData['hour'] = pd.to_datetime(rawData['datetime']).apply(lambda x : x.hour)"
   ]
  },
  {
   "cell_type": "code",
   "execution_count": 7,
   "metadata": {},
   "outputs": [],
   "source": [
    "for var in categoricalFeatures:\n",
    "    rawData[var] = rawData[var].astype(\"category\")"
   ]
  },
  {
   "cell_type": "code",
   "execution_count": 8,
   "metadata": {},
   "outputs": [
    {
     "name": "stdout",
     "output_type": "stream",
     "text": [
      "Applying categorical encoding to season...\n",
      "Applying categorical encoding to holiday...\n",
      "Applying categorical encoding to workingday...\n",
      "Applying categorical encoding to weather...\n",
      "Applying categorical encoding to year...\n",
      "Applying categorical encoding to month...\n",
      "Applying categorical encoding to weekday...\n",
      "Applying categorical encoding to hour...\n"
     ]
    }
   ],
   "source": [
    "def convert_col_to_dummy_df(df_col):\n",
    "    col_name = df_col.name\n",
    "    # Add calculating frequencies of values here...\n",
    "    dummy_df = pd.get_dummies(df_col, prefix=col_name, prefix_sep=': ')\n",
    "    dummy_df_cols = {}\n",
    "    # Add formatting names here...\n",
    "    return dummy_df\n",
    "\n",
    "# 5. Encode categorical features\n",
    "for col_name in rawData.columns:\n",
    "    col_series = rawData[col_name]\n",
    "    if col_series.dtype.name == 'category':\n",
    "        print('Applying categorical encoding to %s...' % col_name)\n",
    "        dummy_df = convert_col_to_dummy_df(col_series)\n",
    "        rawData.drop(col_name, axis=1, inplace=True)\n",
    "        rawData = pd.concat([rawData, dummy_df], axis=1)"
   ]
  },
  {
   "cell_type": "code",
   "execution_count": 9,
   "metadata": {},
   "outputs": [],
   "source": [
    "dataTrain = rawData[pd.notnull(rawData['count'])].sort_values(by=[\"datetime\"])\n",
    "#dataTrain = dataTrain[np.abs(dataTrain[\"count\"]-dataTrain[\"count\"].mean()) <= (3*dataTrain[\"count\"].std())]\n",
    "dataTest = rawData[~pd.notnull(rawData['count'])].sort_values(by=[\"datetime\"])\n",
    "labels = dataTrain[\"count\"]\n",
    "datetime = dataTest[\"datetime\"]"
   ]
  },
  {
   "cell_type": "code",
   "execution_count": 10,
   "metadata": {},
   "outputs": [],
   "source": [
    "from sklearn.model_selection import train_test_split\n",
    "X_train, X_validate, y_train, y_validate = train_test_split( dataTrain, labels, test_size=0.3, random_state=42)"
   ]
  },
  {
   "cell_type": "code",
   "execution_count": 11,
   "metadata": {},
   "outputs": [],
   "source": [
    "dataTrain  = dataTrain.drop(featuresToBeDropped,axis=1)\n",
    "dataTest  = dataTest.drop(featuresToBeDropped,axis=1)\n",
    "X_train = X_train.drop(featuresToBeDropped,axis=1)\n",
    "X_validate = X_validate.drop(featuresToBeDropped,axis=1)"
   ]
  },
  {
   "cell_type": "code",
   "execution_count": 12,
   "metadata": {},
   "outputs": [
    {
     "data": {
      "text/html": [
       "<div>\n",
       "<style scoped>\n",
       "    .dataframe tbody tr th:only-of-type {\n",
       "        vertical-align: middle;\n",
       "    }\n",
       "\n",
       "    .dataframe tbody tr th {\n",
       "        vertical-align: top;\n",
       "    }\n",
       "\n",
       "    .dataframe thead th {\n",
       "        text-align: right;\n",
       "    }\n",
       "</style>\n",
       "<table border=\"1\" class=\"dataframe\">\n",
       "  <thead>\n",
       "    <tr style=\"text-align: right;\">\n",
       "      <th></th>\n",
       "      <th>atemp</th>\n",
       "      <th>humidity</th>\n",
       "      <th>windspeed</th>\n",
       "      <th>season: 1</th>\n",
       "      <th>season: 2</th>\n",
       "      <th>season: 3</th>\n",
       "      <th>season: 4</th>\n",
       "      <th>holiday: 0</th>\n",
       "      <th>holiday: 1</th>\n",
       "      <th>workingday: 0</th>\n",
       "      <th>...</th>\n",
       "      <th>hour: 14</th>\n",
       "      <th>hour: 15</th>\n",
       "      <th>hour: 16</th>\n",
       "      <th>hour: 17</th>\n",
       "      <th>hour: 18</th>\n",
       "      <th>hour: 19</th>\n",
       "      <th>hour: 20</th>\n",
       "      <th>hour: 21</th>\n",
       "      <th>hour: 22</th>\n",
       "      <th>hour: 23</th>\n",
       "    </tr>\n",
       "    <tr>\n",
       "      <th>Index</th>\n",
       "      <th></th>\n",
       "      <th></th>\n",
       "      <th></th>\n",
       "      <th></th>\n",
       "      <th></th>\n",
       "      <th></th>\n",
       "      <th></th>\n",
       "      <th></th>\n",
       "      <th></th>\n",
       "      <th></th>\n",
       "      <th></th>\n",
       "      <th></th>\n",
       "      <th></th>\n",
       "      <th></th>\n",
       "      <th></th>\n",
       "      <th></th>\n",
       "      <th></th>\n",
       "      <th></th>\n",
       "      <th></th>\n",
       "      <th></th>\n",
       "      <th></th>\n",
       "    </tr>\n",
       "  </thead>\n",
       "  <tbody>\n",
       "    <tr>\n",
       "      <th>613</th>\n",
       "      <td>9.090</td>\n",
       "      <td>32</td>\n",
       "      <td>39.0007</td>\n",
       "      <td>1</td>\n",
       "      <td>0</td>\n",
       "      <td>0</td>\n",
       "      <td>0</td>\n",
       "      <td>1</td>\n",
       "      <td>0</td>\n",
       "      <td>0</td>\n",
       "      <td>...</td>\n",
       "      <td>0</td>\n",
       "      <td>0</td>\n",
       "      <td>0</td>\n",
       "      <td>1</td>\n",
       "      <td>0</td>\n",
       "      <td>0</td>\n",
       "      <td>0</td>\n",
       "      <td>0</td>\n",
       "      <td>0</td>\n",
       "      <td>0</td>\n",
       "    </tr>\n",
       "    <tr>\n",
       "      <th>4030</th>\n",
       "      <td>25.760</td>\n",
       "      <td>68</td>\n",
       "      <td>12.9980</td>\n",
       "      <td>0</td>\n",
       "      <td>0</td>\n",
       "      <td>1</td>\n",
       "      <td>0</td>\n",
       "      <td>1</td>\n",
       "      <td>0</td>\n",
       "      <td>1</td>\n",
       "      <td>...</td>\n",
       "      <td>0</td>\n",
       "      <td>0</td>\n",
       "      <td>0</td>\n",
       "      <td>0</td>\n",
       "      <td>0</td>\n",
       "      <td>0</td>\n",
       "      <td>0</td>\n",
       "      <td>0</td>\n",
       "      <td>0</td>\n",
       "      <td>1</td>\n",
       "    </tr>\n",
       "    <tr>\n",
       "      <th>3582</th>\n",
       "      <td>28.790</td>\n",
       "      <td>83</td>\n",
       "      <td>0.0000</td>\n",
       "      <td>0</td>\n",
       "      <td>0</td>\n",
       "      <td>1</td>\n",
       "      <td>0</td>\n",
       "      <td>1</td>\n",
       "      <td>0</td>\n",
       "      <td>0</td>\n",
       "      <td>...</td>\n",
       "      <td>0</td>\n",
       "      <td>0</td>\n",
       "      <td>0</td>\n",
       "      <td>0</td>\n",
       "      <td>0</td>\n",
       "      <td>0</td>\n",
       "      <td>0</td>\n",
       "      <td>0</td>\n",
       "      <td>0</td>\n",
       "      <td>0</td>\n",
       "    </tr>\n",
       "    <tr>\n",
       "      <th>10101</th>\n",
       "      <td>11.365</td>\n",
       "      <td>69</td>\n",
       "      <td>8.9981</td>\n",
       "      <td>0</td>\n",
       "      <td>0</td>\n",
       "      <td>0</td>\n",
       "      <td>1</td>\n",
       "      <td>1</td>\n",
       "      <td>0</td>\n",
       "      <td>0</td>\n",
       "      <td>...</td>\n",
       "      <td>0</td>\n",
       "      <td>0</td>\n",
       "      <td>0</td>\n",
       "      <td>0</td>\n",
       "      <td>0</td>\n",
       "      <td>0</td>\n",
       "      <td>0</td>\n",
       "      <td>0</td>\n",
       "      <td>0</td>\n",
       "      <td>0</td>\n",
       "    </tr>\n",
       "    <tr>\n",
       "      <th>1430</th>\n",
       "      <td>14.395</td>\n",
       "      <td>81</td>\n",
       "      <td>30.0026</td>\n",
       "      <td>0</td>\n",
       "      <td>1</td>\n",
       "      <td>0</td>\n",
       "      <td>0</td>\n",
       "      <td>1</td>\n",
       "      <td>0</td>\n",
       "      <td>0</td>\n",
       "      <td>...</td>\n",
       "      <td>0</td>\n",
       "      <td>0</td>\n",
       "      <td>0</td>\n",
       "      <td>0</td>\n",
       "      <td>0</td>\n",
       "      <td>0</td>\n",
       "      <td>0</td>\n",
       "      <td>0</td>\n",
       "      <td>0</td>\n",
       "      <td>0</td>\n",
       "    </tr>\n",
       "  </tbody>\n",
       "</table>\n",
       "<p>5 rows × 60 columns</p>\n",
       "</div>"
      ],
      "text/plain": [
       "        atemp  humidity  windspeed  season: 1  season: 2  season: 3  \\\n",
       "Index                                                                 \n",
       "613     9.090        32    39.0007          1          0          0   \n",
       "4030   25.760        68    12.9980          0          0          1   \n",
       "3582   28.790        83     0.0000          0          0          1   \n",
       "10101  11.365        69     8.9981          0          0          0   \n",
       "1430   14.395        81    30.0026          0          1          0   \n",
       "\n",
       "       season: 4  holiday: 0  holiday: 1  workingday: 0    ...     hour: 14  \\\n",
       "Index                                                      ...                \n",
       "613            0           1           0              0    ...            0   \n",
       "4030           0           1           0              1    ...            0   \n",
       "3582           0           1           0              0    ...            0   \n",
       "10101          1           1           0              0    ...            0   \n",
       "1430           0           1           0              0    ...            0   \n",
       "\n",
       "       hour: 15  hour: 16  hour: 17  hour: 18  hour: 19  hour: 20  hour: 21  \\\n",
       "Index                                                                         \n",
       "613           0         0         1         0         0         0         0   \n",
       "4030          0         0         0         0         0         0         0   \n",
       "3582          0         0         0         0         0         0         0   \n",
       "10101         0         0         0         0         0         0         0   \n",
       "1430          0         0         0         0         0         0         0   \n",
       "\n",
       "       hour: 22  hour: 23  \n",
       "Index                      \n",
       "613           0         0  \n",
       "4030          0         1  \n",
       "3582          0         0  \n",
       "10101         0         0  \n",
       "1430          0         0  \n",
       "\n",
       "[5 rows x 60 columns]"
      ]
     },
     "execution_count": 12,
     "metadata": {},
     "output_type": "execute_result"
    }
   ],
   "source": [
    "X_train.head()"
   ]
  },
  {
   "cell_type": "code",
   "execution_count": 13,
   "metadata": {},
   "outputs": [],
   "source": [
    "def performance_metric(y, y_,convertExp=True):\n",
    "    if convertExp:\n",
    "        y = np.exp(y),\n",
    "        y_ = np.exp(y_)\n",
    "    log1 = np.nan_to_num(np.array([np.log(v + 1) for v in y]))\n",
    "    log2 = np.nan_to_num(np.array([np.log(v + 1) for v in y_]))\n",
    "    calc = (log1 - log2) ** 2\n",
    "    return np.sqrt(np.mean(calc))"
   ]
  },
  {
   "cell_type": "markdown",
   "metadata": {},
   "source": [
    "# 3. Линейные модели"
   ]
  },
  {
   "cell_type": "code",
   "execution_count": 17,
   "metadata": {},
   "outputs": [],
   "source": [
    "import warnings\n",
    "from sklearn.linear_model import LinearRegression,LassoCV, Ridge, ElasticNetCV\n",
    "lassocv = LassoCV(eps=1e-7, cv=5, max_iter=1000) \n",
    "ridge = Ridge(alpha=1e-6, max_iter=1000) \n",
    "elasticnetcv = ElasticNetCV(max_iter=1000, cv=5)\n",
    "linear_models = [lassocv, ridge, elasticnetcv]"
   ]
  },
  {
   "cell_type": "code",
   "execution_count": 18,
   "metadata": {},
   "outputs": [
    {
     "name": "stdout",
     "output_type": "stream",
     "text": [
      "LassoCV complexity and bandwidth selected and model fitted in 1.336 s\n",
      "Ridge complexity and bandwidth selected and model fitted in 0.015 s\n",
      "ElasticNetCV complexity and bandwidth selected and model fitted in 0.313 s\n"
     ]
    }
   ],
   "source": [
    "import time\n",
    "from sklearn.model_selection import learning_curve\n",
    "import sys, os\n",
    "if not sys.warnoptions:\n",
    "    warnings.simplefilter(\"ignore\")\n",
    "    os.environ[\"PYTHONWARNINGS\"] = \"ignore\" # Also affect subprocesses\n",
    "\n",
    "t0 = time.time()\n",
    "lassocv.fit(X = X_train,y = np.log1p(y_train))\n",
    "lassocv_fit = time.time() - t0\n",
    "print(\"LassoCV complexity and bandwidth selected and model fitted in %.3f s\"\n",
    "  % lassocv_fit)\n",
    "t0 = time.time()\n",
    "ridge.fit(X = X_train,y = np.log1p(y_train))\n",
    "ridge_fit = time.time() - t0\n",
    "print(\"Ridge complexity and bandwidth selected and model fitted in %.3f s\"\n",
    "  % ridge_fit)\n",
    "t0 = time.time()\n",
    "elasticnetcv.fit(X = X_train,y = np.log1p(y_train))\n",
    "elasticnetcv_fit = time.time() - t0\n",
    "print(\"ElasticNetCV complexity and bandwidth selected and model fitted in %.3f s\"\n",
    "  % elasticnetcv_fit)\n"
   ]
  },
  {
   "cell_type": "code",
   "execution_count": 19,
   "metadata": {},
   "outputs": [
    {
     "name": "stdout",
     "output_type": "stream",
     "text": [
      "LassoCV prediction for 3266 inputs in 0.003 s\n",
      "Ridge prediction for 3266 inputs in 0.014 s\n",
      "ElasticNetCV prediction for 3266 inputs in 0.002 s\n"
     ]
    }
   ],
   "source": [
    "t0 = time.time()\n",
    "y_lassocv = lassocv.predict(X= X_validate)\n",
    "lassocv_predict = time.time() - t0\n",
    "print(\"LassoCV prediction for %d inputs in %.3f s\"\n",
    "      % (X_validate.shape[0], lassocv_predict))\n",
    "t0 = time.time()\n",
    "y_ridge = ridge.predict(X= X_validate)\n",
    "ridge_predict = time.time() - t0\n",
    "print(\"Ridge prediction for %d inputs in %.3f s\"\n",
    "      % (X_validate.shape[0], ridge_predict))\n",
    "t0 = time.time()\n",
    "y_elasticnetcv = elasticnetcv.predict(X= X_validate)\n",
    "elasticnetcv_predict = time.time() - t0\n",
    "print(\"ElasticNetCV prediction for %d inputs in %.3f s\"\n",
    "      % (X_validate.shape[0], elasticnetcv_predict))"
   ]
  },
  {
   "cell_type": "code",
   "execution_count": 20,
   "metadata": {},
   "outputs": [
    {
     "data": {
      "text/plain": [
       "<matplotlib.legend.Legend at 0x25cb234b160>"
      ]
     },
     "execution_count": 20,
     "metadata": {},
     "output_type": "execute_result"
    },
    {
     "data": {
      "image/png": "[encoded data removed]",
      "text/plain": [
       "<Figure size 432x288 with 1 Axes>"
      ]
     },
     "metadata": {
      "needs_background": "light"
     },
     "output_type": "display_data"
    }
   ],
   "source": [
    "# Visualize training and prediction time\n",
    "plt.figure()\n",
    "colors_dict = {\"LassoCV\":\"r\",\n",
    "               \"Ridge\": \"g\", \n",
    "               \"ElasticNetCV\": \"b\"}\n",
    "for name, estimator in {\"LassoCV\": lassocv,\n",
    "                        \"Ridge\": ridge, \n",
    "                        \"ElasticNetCV\": elasticnetcv}.items():\n",
    "    train_time = []\n",
    "    test_time = []\n",
    "    sizes = np.logspace(1, 4, 7).astype(np.int)\n",
    "    for train_test_size in sizes:\n",
    "        t0 = time.time()\n",
    "        estimator.fit(X = X_train[:train_test_size],y = np.log1p(y_train[:train_test_size]))\n",
    "        train_time.append(time.time() - t0)\n",
    "\n",
    "        t0 = time.time()\n",
    "        estimator.predict(X=X_validate)\n",
    "        test_time.append(time.time() - t0)\n",
    "\n",
    "    plt.plot(sizes, train_time, 'o-', color=colors_dict[name],\n",
    "             label=\"%s (train)\" % name)\n",
    "    plt.plot(sizes, test_time, 'o--', color = colors_dict[name],\n",
    "             label=\"%s (test)\" % name)\n",
    "\n",
    "plt.xscale(\"log\")\n",
    "plt.yscale(\"log\")\n",
    "plt.xlabel(\"Train size\")\n",
    "plt.ylabel(\"Time (seconds)\")\n",
    "plt.title('Execution Time')\n",
    "plt.legend(loc=\"best\")"
   ]
  },
  {
   "cell_type": "code",
   "execution_count": 23,
   "metadata": {},
   "outputs": [
    {
     "data": {
      "text/plain": [
       "<matplotlib.legend.Legend at 0x25cb2684d30>"
      ]
     },
     "execution_count": 23,
     "metadata": {},
     "output_type": "execute_result"
    },
    {
     "data": {
      "image/png": "[encoded data removed]",
      "text/plain": [
       "<Figure size 432x288 with 1 Axes>"
      ]
     },
     "metadata": {
      "needs_background": "light"
     },
     "output_type": "display_data"
    }
   ],
   "source": [
    "# Visualize learning curves\n",
    "plt.figure()\n",
    "\n",
    "lassocv = LassoCV(eps=1e-7, cv=5, max_iter=1000)\n",
    "ridge = Ridge(alpha=1e-6, max_iter=1000)\n",
    "elasticnetcv = ElasticNetCV(max_iter=1000, cv=5)\n",
    "\n",
    "sizes = []\n",
    "x = 0\n",
    "while x<7620 : \n",
    "    x+=250 \n",
    "    sizes.append(x)\n",
    "\n",
    "sizes = np.array(sizes)\n",
    "    \n",
    "for name, estimator in {\"LassoCV\": lassocv,\n",
    "                        \"Ridge\": ridge, \n",
    "                        \"ElasticNetCV\": elasticnetcv}.items():\n",
    "    train_time = []\n",
    "    test_time = []\n",
    "    res = []\n",
    "    for train_test_size in sizes:\n",
    "        estimator.fit(X = X_train[:train_test_size],y = np.log1p(y_train[:train_test_size]))\n",
    "        preds = estimator.predict(X=X_validate)\n",
    "        res.append(performance_metric(np.exp(np.log1p(y_validate)),np.exp(preds),False))\n",
    "\n",
    "\n",
    "    plt.plot(sizes, res, 'o-', label=\"%s (train)\" % name)\n",
    "plt.xlabel(\"Train size\")\n",
    "plt.ylabel(\"Time (seconds)\")\n",
    "plt.title('Accuracy (RMSLE)')\n",
    "plt.legend(loc=\"best\")"
   ]
  },
  {
   "cell_type": "code",
   "execution_count": 24,
   "metadata": {},
   "outputs": [
    {
     "name": "stdout",
     "output_type": "stream",
     "text": [
      "RMSLE Value For  LassoCV(alphas=None, copy_X=True, cv=5, eps=1e-07, fit_intercept=True,\n",
      "    max_iter=1000, n_alphas=100, n_jobs=1, normalize=False, positive=False,\n",
      "    precompute='auto', random_state=None, selection='cyclic', tol=0.0001,\n",
      "    verbose=False)  : \n",
      "0.557500049232119\n",
      "RMSLE Value For  Ridge(alpha=1e-06, copy_X=True, fit_intercept=True, max_iter=1000,\n",
      "   normalize=False, random_state=None, solver='auto', tol=0.001)  : \n",
      "0.5574870195546555\n",
      "RMSLE Value For  ElasticNetCV(alphas=None, copy_X=True, cv=5, eps=0.001, fit_intercept=True,\n",
      "       l1_ratio=0.5, max_iter=1000, n_alphas=100, n_jobs=1,\n",
      "       normalize=False, positive=False, precompute='auto',\n",
      "       random_state=None, selection='cyclic', tol=0.0001, verbose=0)  : \n",
      "0.6830061732609689\n"
     ]
    }
   ],
   "source": [
    "for model in linear_models:\n",
    "    preds = model.predict(X= X_validate)\n",
    "    print (\"RMSLE Value For \", str(model), \" : \") \n",
    "    print (performance_metric(np.exp(np.log1p(y_validate)),np.exp(preds),False))"
   ]
  },
  {
   "cell_type": "code",
   "execution_count": 25,
   "metadata": {},
   "outputs": [
    {
     "name": "stdout",
     "output_type": "stream",
     "text": [
      "LassoCV regression has conserved 53 features over 60\n",
      "Ridge regression has conserved 60 features over 60\n",
      "ElasticNetCV regression has conserved 35 features over 60\n"
     ]
    }
   ],
   "source": [
    "features = X_train.columns\n",
    "print(\"LassoCV regression has conserved %d features over %d\"%(len(features[lassocv.coef_!=0]),X_train.shape[1]))\n",
    "print(\"Ridge regression has conserved %d features over %d\"%(len(features[ridge.coef_!=0]),X_train.shape[1]))\n",
    "print(\"ElasticNetCV regression has conserved %d features over %d\"%(len(features[elasticnetcv.coef_!=0]),X_train.shape[1]))"
   ]
  },
  {
   "cell_type": "markdown",
   "metadata": {},
   "source": [
    "# 4. Модели основанные на деревьях"
   ]
  },
  {
   "cell_type": "code",
   "execution_count": null,
   "metadata": {},
   "outputs": [],
   "source": [
    "!pip install xgboost \n",
    "import xgboost as xgb\n",
    "# XGBoost\n",
    "model_xgb = xgb.XGBRegressor(colsample_bytree=0.2, gamma=0.0, \n",
    "                             learning_rate=0.05, max_depth=6, \n",
    "                             min_child_weight=1.5, n_estimators=7200,\n",
    "                             reg_alpha=0.9, reg_lambda=0.6,\n",
    "                             subsample=0.2,seed=42, silent=1)\n",
    "\n",
    "model_xgb.fit(X = X_train,y = np.log1p(y_train))\n",
    "preds = model_xgb.predict(X_validate)\n",
    "print (\"Perfomance metric for xboost: \",performance_metric(np.exp(np.log1p(y_validate)),np.exp(preds),False))"
   ]
  },
  {
   "cell_type": "code",
   "execution_count": null,
   "metadata": {},
   "outputs": [],
   "source": [
    "from sklearn.ensemble import GradientBoostingRegressor, AdaBoostRegressor, RandomForestRegressor\n",
    "from sklearn.tree import DecisionTreeRegressor\n",
    "# Gradient Boosting\n",
    "GBoost = GradientBoostingRegressor(n_estimators=3000, learning_rate=0.05,\n",
    "                                   max_depth=4, max_features='sqrt',\n",
    "                                   min_samples_leaf=15, min_samples_split=10, \n",
    "                                   loss='huber', random_state =5)\n",
    "GBoost.fit(X = X_train,y = np.log1p(y_train))\n",
    "preds = GBoost.predict(X_validate)\n",
    "print (\"Perfomance metric for GBoost: \",performance_metric(np.exp(np.log1p(y_validate)),np.exp(preds),False))"
   ]
  },
  {
   "cell_type": "code",
   "execution_count": null,
   "metadata": {},
   "outputs": [],
   "source": [
    "import lightgbm as lgb\n",
    "LightGB = lgb.LGBMRegressor(objective='regression',num_leaves=5,\n",
    "                              learning_rate=0.05, n_estimators=720,\n",
    "                              max_bin = 55, bagging_fraction = 0.8,\n",
    "                              bagging_freq = 5, feature_fraction = 0.2319,\n",
    "                              feature_fraction_seed=9, bagging_seed=9,\n",
    "                              min_data_in_leaf =6, min_sum_hessian_in_leaf = 11)\n",
    "\n",
    "LightGB.fit(X = X_train,y = np.log1p(y_train))\n",
    "preds = LightGB.predict(X_validate)\n",
    "print (\"Perfomance metric for LightGB: \",performance_metric(np.exp(np.log1p(y_validate)),np.exp(preds),False))"
   ]
  },
  {
   "cell_type": "code",
   "execution_count": null,
   "metadata": {},
   "outputs": [],
   "source": [
    "from sklearn.ensemble import RandomForestRegressor\n",
    "from sklearn.model_selection import GridSearchCV\n",
    "rfModel = RandomForestRegressor(n_estimators=100) \n",
    "rfModel.fit(X = X_train,y = np.log1p(y_train))\n",
    "preds = rfModel.predict(X= X_validate)\n",
    "print (\"Perfomance metric for Random Forest: \",performance_metric(np.exp(np.log1p(y_validate)),np.exp(preds),False))"
   ]
  },
  {
   "cell_type": "code",
   "execution_count": null,
   "metadata": {},
   "outputs": [],
   "source": [
    "preds = GBoost.predict(X= dataTest)"
   ]
  },
  {
   "cell_type": "code",
   "execution_count": null,
   "metadata": {},
   "outputs": [],
   "source": [
    "submission = pd.DataFrame({\n",
    "        \"datetime\": datetime,\n",
    "        \"count\": [max(0, x) for x in np.exp(preds)]\n",
    "    })\n",
    "submission.to_csv('bike_prediction_output.csv', index=False)"
   ]
  },
  {
   "cell_type": "markdown",
   "metadata": {},
   "source": [
    "# 5. Построение кривых обучения"
   ]
  },
  {
   "cell_type": "code",
   "execution_count": null,
   "metadata": {},
   "outputs": [],
   "source": []
  }
 ],
 "metadata": {
  "kernelspec": {
   "display_name": "Python 3",
   "language": "python",
   "name": "python3"
  },
  "language_info": {
   "codemirror_mode": {
    "name": "ipython",
    "version": 3
   },
   "file_extension": ".py",
   "mimetype": "text/x-python",
   "name": "python",
   "nbconvert_exporter": "python",
   "pygments_lexer": "ipython3",
   "version": "3.6.6"
  }
 },
 "nbformat": 4,
 "nbformat_minor": 2
}
